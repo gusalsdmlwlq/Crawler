{
 "cells": [
  {
   "cell_type": "code",
   "execution_count": 1,
   "metadata": {},
   "outputs": [],
   "source": [
    "from sklearn.svm import SVC\n",
    "from sklearn.model_selection import GridSearchCV\n",
    "import pandas as pd\n",
    "import time\n",
    "from sklearn.externals import joblib\n",
    "from sklearn.model_selection import cross_val_score\n",
    "import numpy as np\n",
    "from sklearn.exceptions import ConvergenceWarning\n",
    "from sklearn.preprocessing import StandardScaler"
   ]
  },
  {
   "cell_type": "code",
   "execution_count": 2,
   "metadata": {},
   "outputs": [],
   "source": [
    "import DataCreator\n",
    "\n",
    "creator = DataCreator.DataCreator()"
   ]
  },
  {
   "cell_type": "code",
   "execution_count": null,
   "metadata": {},
   "outputs": [],
   "source": [
    "start = time.time()\n",
    "creator.makecsv(DataCreator.news, 1)\n",
    "end = time.time()\n",
    "print(end-start,\"secs\")"
   ]
  },
  {
   "cell_type": "code",
   "execution_count": null,
   "metadata": {},
   "outputs": [],
   "source": [
    "start = time.time()\n",
    "creator.makecsv(DataCreator.blog, 2)\n",
    "end = time.time()\n",
    "print(end-start,\"secs\")"
   ]
  },
  {
   "cell_type": "code",
   "execution_count": null,
   "metadata": {},
   "outputs": [],
   "source": [
    "start = time.time()\n",
    "creator.makecsv(DataCreator.shop, 3)\n",
    "end = time.time()\n",
    "print(end-start,\"secs\")"
   ]
  },
  {
   "cell_type": "code",
   "execution_count": 3,
   "metadata": {},
   "outputs": [],
   "source": [
    "from sklearn.metrics import accuracy_score\n",
    "from sklearn.metrics import f1_score\n",
    "import LearningManager"
   ]
  },
  {
   "cell_type": "code",
   "execution_count": 4,
   "metadata": {},
   "outputs": [],
   "source": [
    "learningmanager = LearningManager.LearningManager(1)\n",
    "learningmanager.resetmodel()\n",
    "learningmanager.readdata(\"dataset/train_shop.csv\")\n",
    "learningmanager.preprocessing()"
   ]
  },
  {
   "cell_type": "code",
   "execution_count": 5,
   "metadata": {},
   "outputs": [],
   "source": [
    "# StandardScale 적용한 csv 생성\n",
    "newcsv = pd.DataFrame()\n",
    "for x in learningmanager.x_train_std:\n",
    "    newblock = pd.DataFrame([x])\n",
    "    newcsv = pd.concat([newcsv, newblock])\n",
    "newcsv.to_csv(\"./dataset/train_shop_sc.csv\", index=False, header=False, encoding=\"utf-8\")"
   ]
  },
  {
   "cell_type": "code",
   "execution_count": 7,
   "metadata": {},
   "outputs": [],
   "source": [
    "csv = pd.read_csv(\"./dataset/train_shop.csv\", header=None, encoding=\"utf-8\")\n",
    "newcsv = pd.DataFrame()\n",
    "for index, row in csv.iterrows():\n",
    "    if not (row[1] == 0.0 and row[2] == 0.0 and row[3] == 0.0 and row[4] == 0.0):\n",
    "        if row[6] == 1:\n",
    "            x = [row[0], row[1], row[2], row[3], row[4], row[5], 0]\n",
    "            newblock = pd.DataFrame([x])\n",
    "            newcsv = pd.concat([newcsv, newblock])\n",
    "    else:\n",
    "        x = [0, 0, 0, 0, 0]\n",
    "        newblock = pd.DataFrame([x])\n",
    "        newcsv = pd.concat([newcsv, newblock])\n",
    "newcsv.to_csv(\"./dataset/train_shop_title.csv\", index=False, header=False, encoding=\"utf-8\")"
   ]
  },
  {
   "cell_type": "code",
   "execution_count": null,
   "metadata": {},
   "outputs": [],
   "source": []
  }
 ],
 "metadata": {
  "kernelspec": {
   "display_name": "Python 3",
   "language": "python",
   "name": "python3"
  },
  "language_info": {
   "codemirror_mode": {
    "name": "ipython",
    "version": 3
   },
   "file_extension": ".py",
   "mimetype": "text/x-python",
   "name": "python",
   "nbconvert_exporter": "python",
   "pygments_lexer": "ipython3",
   "version": "3.6.7"
  }
 },
 "nbformat": 4,
 "nbformat_minor": 2
}
